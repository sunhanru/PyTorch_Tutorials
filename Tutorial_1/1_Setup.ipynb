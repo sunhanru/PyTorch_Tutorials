{
 "cells": [
  {
   "cell_type": "markdown",
   "metadata": {},
   "source": [
    "# How to Setup PyTorch on Linux/Mac & Windows\n",
    "* Make sure conda is installed and added to your PATH before doing this setup "
   ]
  },
  {
   "cell_type": "markdown",
   "metadata": {},
   "source": [
    "### Mac/Linux: \n",
    "* Open terminal\n",
    "* Activate your virtual environment of choice for your Pytorch projects\n",
    "    * If you don't know what this means then ignore it\n",
    "* Type `conda install -c pytorch pytorch` and click enter\n",
    "* When prompted type `y` and click enter.\n",
    "* You now have PyTorch installed\n",
    "\n",
    "\n",
    "* You may want to end up using some premade datasets and architectures. To do so, install `Torchvision`\n",
    "* Type `conda install -c soumith torchvision` and click enter\n",
    "* You now have TorchVision installed."
   ]
  },
  {
   "cell_type": "markdown",
   "metadata": {},
   "source": [
    "### Windows:\n",
    "* Go to start menu and search for `Anaconda Prompt`\n",
    "* Activate your virtual environment of choice for your Pytorch projects\n",
    "    * If you don't know what this means then ignore it\n",
    "* Type `conda install -c pytorch pytorch`\n",
    "* When prompted type `y` and click enter.\n",
    "* You now have PyTorch installed\n",
    "\n",
    "\n",
    "* You may want to end up using some premade datasets and architectures. To do so, install `Torchvision`\n",
    "* Type `conda install -c soumith torchvision` and click enter\n",
    "* You now have TorchVision installed."
   ]
  },
  {
   "cell_type": "markdown",
   "metadata": {},
   "source": []
  },
  {
   "cell_type": "markdown",
   "metadata": {},
   "source": [
    "### Opening the Jupyter Notebook: Mac/Linux\n",
    "* Open terminal\n",
    "* Navigate to directory you want to open from\n",
    "    * ex: `cd PyTorch_Tutorial`\n",
    "* Type `jupyter notebook` and hit enter.\n",
    "* A webpage should open with the jupyter home\n",
    "* If you get command not found you probably didn't add `conda` to your path."
   ]
  },
  {
   "cell_type": "markdown",
   "metadata": {},
   "source": [
    "### Opening the Jupyter Notebook: Windows\n",
    "* Go to start menu and search for `jupyter notebook`\n",
    "* Click the `jupyter notebook` application.\n",
    "* Within the notebook environment navigate to the folder you want to go to."
   ]
  },
  {
   "cell_type": "markdown",
   "metadata": {},
   "source": [
    "# Note: \n",
    "* For more on Jupyter and conda see https://github.com/lucas-rosen1/Data_Science/blob/master/Week_1/Class_2/1_conda.ipynb"
   ]
  },
  {
   "cell_type": "code",
   "execution_count": null,
   "metadata": {},
   "outputs": [],
   "source": []
  }
 ],
 "metadata": {
  "kernelspec": {
   "display_name": "Python [conda env:Tutorial]",
   "language": "python",
   "name": "conda-env-Tutorial-py"
  },
  "language_info": {
   "codemirror_mode": {
    "name": "ipython",
    "version": 3
   },
   "file_extension": ".py",
   "mimetype": "text/x-python",
   "name": "python",
   "nbconvert_exporter": "python",
   "pygments_lexer": "ipython3",
   "version": "3.6.8"
  }
 },
 "nbformat": 4,
 "nbformat_minor": 2
}
