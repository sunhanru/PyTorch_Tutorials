{
 "cells": [
  {
   "cell_type": "markdown",
   "metadata": {},
   "source": [
    "# This Tutorial Will Cover Regularization in PyTorch\n",
    "* L2 Penalties\n",
    "* L1 Penalties\n",
    "* Early Stopping\n",
    "* Dropout"
   ]
  },
  {
   "cell_type": "markdown",
   "metadata": {},
   "source": [
    "### Load Data\n"
   ]
  },
  {
   "cell_type": "code",
   "execution_count": null,
   "metadata": {},
   "outputs": [],
   "source": [
    "#data is stored as pickle file\n",
    "import pickle\n",
    "import pandas as pd\n",
    "import torch\n",
    "import torch.nn as nn\n",
    "from torch.autograd import Variable\n",
    "import numpy as np\n",
    "from sklearn.model_selection import train_test_split"
   ]
  },
  {
   "cell_type": "code",
   "execution_count": null,
   "metadata": {},
   "outputs": [],
   "source": [
    "with open('data/tfidf_1000.pkl','rb') as f:\n",
    "    data = pickle.load(f)"
   ]
  },
  {
   "cell_type": "code",
   "execution_count": null,
   "metadata": {},
   "outputs": [],
   "source": [
    "X = data['data']\n",
    "y = data['target']"
   ]
  },
  {
   "cell_type": "markdown",
   "metadata": {},
   "source": [
    "### Fit and Score UnRegularized Neural Net"
   ]
  },
  {
   "cell_type": "code",
   "execution_count": null,
   "metadata": {},
   "outputs": [],
   "source": [
    "X_train, X_test, y_train, y_test = train_test_split(X, y)\n",
    "\n",
    "# Turn X and y (train and test) into PyTorch objects. We always have to do this step\n",
    "X_train_tens = Variable(torch.Tensor(X_train).float())\n",
    "X_test_tens = Variable(torch.Tensor(X_test).float())\n",
    "y_train_tens = Variable(torch.Tensor(y_train).float())\n",
    "y_test_tens = Variable(torch.Tensor(y_test).float())"
   ]
  },
  {
   "cell_type": "code",
   "execution_count": null,
   "metadata": {},
   "outputs": [],
   "source": [
    "class My_Neural_Net(nn.Module): \n",
    "    \n",
    "    #constructor\n",
    "    #take in X as a parameter\n",
    "    def __init__(self, X):\n",
    "        super(My_Neural_Net, self).__init__()\n",
    "        \n",
    "        #Find dimensionality of X\n",
    "        X_dim = X.shape[1]\n",
    "        \n",
    "        # Define the layers. This matches the image above \n",
    "        # Except that our input size is X_dim dimensions\n",
    "        self.layer_1 = nn.Linear(X_dim, 4)\n",
    "        self.layer_2 = nn.Linear(4,4)\n",
    "        self.layer_3 = nn.Linear(4,1)\n",
    "\n",
    "        # Define activation functions. I'll be using ReLU\n",
    "        # for the hidden layers. Must use sigmoid for the \n",
    "        # final layer so we get a number between 0 and 1 for \n",
    "        # the probability of being about baseball.\n",
    "        # Luckily PyTorch already has ReLU and \n",
    "        # sigmoid.\n",
    "        self.relu = nn.ReLU()\n",
    "        self.sigmoid = nn.Sigmoid()\n",
    "        \n",
    "        # Define what optimization we want to use.\n",
    "        # Adam is a popular method so I'll use it.\n",
    "        self.optimizer = torch.optim.Adam(self.parameters(), lr=0.0001)\n",
    "        \n",
    "    # 1. input X\n",
    "    def forward(self, X):\n",
    "        # 2. linearly transform X into hidden data 1\n",
    "        X = self.layer_1(X)\n",
    "        # 3. perform ReLU on hidden data\n",
    "        X = self.relu(X)\n",
    "        # 4. linearly transform hidden data into hidden data 2\n",
    "        X = self.layer_2(X)\n",
    "        # 5. perform ReLU on hidden data\n",
    "        X = self.relu(X)\n",
    "        # 6. linearly transform hidden data into output layer\n",
    "        X = self.layer_3(X)\n",
    "        # 7. perform sigmoid on output data to get f(X) predictions between 0 and 1\n",
    "        X = self.sigmoid(X)\n",
    "        \n",
    "        # 8. output predictions\n",
    "        return X\n",
    "    \n",
    "    def loss(self, pred, true):\n",
    "        #PyTorch's own cross entropy loss function.\n",
    "        score = nn.BCELoss()\n",
    "        return score(pred, true)\n",
    "    \n",
    "\n",
    "    # 1. input: N - number of iterations to train, X - data, y - target\n",
    "    def fit(self,X,y,N = 5000):\n",
    "        \n",
    "        # 2. for n going from 0 to N -1 :\n",
    "        for epoch in range(N):\n",
    "            \n",
    "            # Reset weights in case they are set for some reason\n",
    "            self.optimizer.zero_grad()\n",
    "            \n",
    "            # 3. f(X) = forward(X) \n",
    "            pred = self.forward(X)\n",
    "            \n",
    "            # 4. l = loss(f(X),y)\n",
    "            l = self.loss(pred, y)\n",
    "            #print loss\n",
    "            print(l)\n",
    "            \n",
    "            # 5. Back progation\n",
    "            l.backward()\n",
    "            # 5. Gradient Descent\n",
    "            self.optimizer.step()\n",
    "    \n",
    "    def predict_proba(self, X):\n",
    "        # probability of being a 1\n",
    "        prob_1 = self.forward(X)\n",
    "              \n",
    "        # vectorwise subtraction\n",
    "        prob_0 = 1 - prob_1\n",
    "        \n",
    "        # make into a matrix\n",
    "        probs = torch.cat((prob_0,prob_1), dim = 1)\n",
    "        \n",
    "        return probs\n",
    "    \n",
    "    def predict(self, X):\n",
    "        probs = self.predict_proba(X)\n",
    "        \n",
    "        # get only second column (probability of being a 1)\n",
    "        probs_1 = probs[:,1:]\n",
    "        \n",
    "        # 1 if prob_1 is greater or equal to than 0.5 for a given example\n",
    "        # 0 if less than 0.5\n",
    "        preds = (probs_1 >= 0.5).int()\n",
    "        \n",
    "        return preds\n",
    "    \n",
    "    def score(self, X, y):\n",
    "        # proportion of times where we're correct\n",
    "        # conversions just allow the math to work\n",
    "        acc = (self.predict(X) == y.int()).float().mean()\n",
    "        \n",
    "        return acc\n",
    "    "
   ]
  },
  {
   "cell_type": "code",
   "execution_count": null,
   "metadata": {},
   "outputs": [],
   "source": [
    "neur_net = My_Neural_Net(X_train_tens)\n",
    "neur_net.fit(X_train_tens,y_train_tens)"
   ]
  },
  {
   "cell_type": "code",
   "execution_count": null,
   "metadata": {},
   "outputs": [],
   "source": [
    "#Train Acc\n",
    "neur_net.score(X_train_tens,y_train_tens)"
   ]
  },
  {
   "cell_type": "code",
   "execution_count": null,
   "metadata": {},
   "outputs": [],
   "source": [
    "# Test Acc\n",
    "\n",
    "neur_net.score(X_test_tens,y_test_tens)"
   ]
  },
  {
   "cell_type": "markdown",
   "metadata": {},
   "source": [
    "### Lets Look at Our Parameters and Keep Track via Some Regularization Techniques"
   ]
  },
  {
   "cell_type": "code",
   "execution_count": null,
   "metadata": {},
   "outputs": [],
   "source": [
    "#All Params\n",
    "for name, param in neur_net.named_parameters():\n",
    "    if param.requires_grad:\n",
    "        print(name, param.data)"
   ]
  },
  {
   "cell_type": "code",
   "execution_count": null,
   "metadata": {},
   "outputs": [],
   "source": [
    "# Mean\n",
    "for name, param in neur_net.named_parameters():\n",
    "    if param.requires_grad:\n",
    "        print(name, param.data.mean())"
   ]
  },
  {
   "cell_type": "code",
   "execution_count": null,
   "metadata": {},
   "outputs": [],
   "source": [
    "# Max\n",
    "for name, param in neur_net.named_parameters():\n",
    "    if param.requires_grad:\n",
    "        print(name, param.data.max())"
   ]
  },
  {
   "cell_type": "code",
   "execution_count": null,
   "metadata": {},
   "outputs": [],
   "source": [
    "# Proportion of Nonzero Params\n",
    "for name, param in neur_net.named_parameters():\n",
    "    if param.requires_grad:\n",
    "        print(name, (param.data > 0).float().mean())"
   ]
  },
  {
   "cell_type": "markdown",
   "metadata": {},
   "source": [
    "# Implement Regularization from `Deep Learning Book`"
   ]
  },
  {
   "cell_type": "markdown",
   "metadata": {},
   "source": [
    "# 7.8 Early Stopping"
   ]
  },
  {
   "cell_type": "code",
   "execution_count": null,
   "metadata": {},
   "outputs": [],
   "source": []
  },
  {
   "cell_type": "markdown",
   "metadata": {},
   "source": [
    "# 7.1.1 L2 Penalty"
   ]
  },
  {
   "cell_type": "code",
   "execution_count": null,
   "metadata": {},
   "outputs": [],
   "source": []
  },
  {
   "cell_type": "markdown",
   "metadata": {},
   "source": [
    "# 7.1.2 L1 Penalty\n",
    "\n"
   ]
  },
  {
   "cell_type": "code",
   "execution_count": null,
   "metadata": {},
   "outputs": [],
   "source": []
  },
  {
   "cell_type": "markdown",
   "metadata": {},
   "source": [
    "# 7.5 Add Noise to Weights"
   ]
  },
  {
   "cell_type": "code",
   "execution_count": null,
   "metadata": {},
   "outputs": [],
   "source": []
  },
  {
   "cell_type": "markdown",
   "metadata": {},
   "source": [
    "# 7.12 Dropout"
   ]
  },
  {
   "cell_type": "code",
   "execution_count": null,
   "metadata": {},
   "outputs": [],
   "source": []
  }
 ],
 "metadata": {
  "kernelspec": {
   "display_name": "Python [conda env:Tutorial]",
   "language": "python",
   "name": "conda-env-Tutorial-py"
  },
  "language_info": {
   "codemirror_mode": {
    "name": "ipython",
    "version": 3
   },
   "file_extension": ".py",
   "mimetype": "text/x-python",
   "name": "python",
   "nbconvert_exporter": "python",
   "pygments_lexer": "ipython3",
   "version": "3.6.8"
  }
 },
 "nbformat": 4,
 "nbformat_minor": 2
}
